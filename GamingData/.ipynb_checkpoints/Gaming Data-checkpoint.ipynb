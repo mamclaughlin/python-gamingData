{
 "cells": [
  {
   "cell_type": "code",
   "execution_count": 74,
   "metadata": {},
   "outputs": [
    {
     "data": {
      "text/html": [
       "<div>\n",
       "<style>\n",
       "    .dataframe thead tr:only-child th {\n",
       "        text-align: right;\n",
       "    }\n",
       "\n",
       "    .dataframe thead th {\n",
       "        text-align: left;\n",
       "    }\n",
       "\n",
       "    .dataframe tbody tr th {\n",
       "        vertical-align: top;\n",
       "    }\n",
       "</style>\n",
       "<table border=\"1\" class=\"dataframe\">\n",
       "  <thead>\n",
       "    <tr style=\"text-align: right;\">\n",
       "      <th></th>\n",
       "      <th>Age</th>\n",
       "      <th>Gender</th>\n",
       "      <th>Item ID</th>\n",
       "      <th>Item Name</th>\n",
       "      <th>Price</th>\n",
       "      <th>SN</th>\n",
       "    </tr>\n",
       "  </thead>\n",
       "  <tbody>\n",
       "    <tr>\n",
       "      <th>0</th>\n",
       "      <td>38</td>\n",
       "      <td>Male</td>\n",
       "      <td>165</td>\n",
       "      <td>Bone Crushing Silver Skewer</td>\n",
       "      <td>3.37</td>\n",
       "      <td>Aelalis34</td>\n",
       "    </tr>\n",
       "    <tr>\n",
       "      <th>1</th>\n",
       "      <td>21</td>\n",
       "      <td>Male</td>\n",
       "      <td>119</td>\n",
       "      <td>Stormbringer, Dark Blade of Ending Misery</td>\n",
       "      <td>2.32</td>\n",
       "      <td>Eolo46</td>\n",
       "    </tr>\n",
       "    <tr>\n",
       "      <th>2</th>\n",
       "      <td>34</td>\n",
       "      <td>Male</td>\n",
       "      <td>174</td>\n",
       "      <td>Primitive Blade</td>\n",
       "      <td>2.46</td>\n",
       "      <td>Assastnya25</td>\n",
       "    </tr>\n",
       "    <tr>\n",
       "      <th>3</th>\n",
       "      <td>21</td>\n",
       "      <td>Male</td>\n",
       "      <td>92</td>\n",
       "      <td>Final Critic</td>\n",
       "      <td>1.36</td>\n",
       "      <td>Pheusrical25</td>\n",
       "    </tr>\n",
       "    <tr>\n",
       "      <th>4</th>\n",
       "      <td>23</td>\n",
       "      <td>Male</td>\n",
       "      <td>63</td>\n",
       "      <td>Stormfury Mace</td>\n",
       "      <td>1.27</td>\n",
       "      <td>Aela59</td>\n",
       "    </tr>\n",
       "    <tr>\n",
       "      <th>5</th>\n",
       "      <td>20</td>\n",
       "      <td>Male</td>\n",
       "      <td>10</td>\n",
       "      <td>Sleepwalker</td>\n",
       "      <td>1.73</td>\n",
       "      <td>Tanimnya91</td>\n",
       "    </tr>\n",
       "    <tr>\n",
       "      <th>6</th>\n",
       "      <td>20</td>\n",
       "      <td>Male</td>\n",
       "      <td>153</td>\n",
       "      <td>Mercenary Sabre</td>\n",
       "      <td>4.57</td>\n",
       "      <td>Undjaskla97</td>\n",
       "    </tr>\n",
       "    <tr>\n",
       "      <th>7</th>\n",
       "      <td>29</td>\n",
       "      <td>Female</td>\n",
       "      <td>169</td>\n",
       "      <td>Interrogator, Blood Blade of the Queen</td>\n",
       "      <td>3.32</td>\n",
       "      <td>Iathenudil29</td>\n",
       "    </tr>\n",
       "    <tr>\n",
       "      <th>8</th>\n",
       "      <td>25</td>\n",
       "      <td>Male</td>\n",
       "      <td>118</td>\n",
       "      <td>Ghost Reaver, Longsword of Magic</td>\n",
       "      <td>2.77</td>\n",
       "      <td>Sondenasta63</td>\n",
       "    </tr>\n",
       "    <tr>\n",
       "      <th>9</th>\n",
       "      <td>31</td>\n",
       "      <td>Male</td>\n",
       "      <td>99</td>\n",
       "      <td>Expiration, Warscythe Of Lost Worlds</td>\n",
       "      <td>4.53</td>\n",
       "      <td>Hilaerin92</td>\n",
       "    </tr>\n",
       "    <tr>\n",
       "      <th>10</th>\n",
       "      <td>24</td>\n",
       "      <td>Male</td>\n",
       "      <td>57</td>\n",
       "      <td>Despair, Favor of Due Diligence</td>\n",
       "      <td>3.81</td>\n",
       "      <td>Chamosia29</td>\n",
       "    </tr>\n",
       "    <tr>\n",
       "      <th>11</th>\n",
       "      <td>20</td>\n",
       "      <td>Male</td>\n",
       "      <td>47</td>\n",
       "      <td>Alpha, Reach of Ending Hope</td>\n",
       "      <td>1.55</td>\n",
       "      <td>Sally64</td>\n",
       "    </tr>\n",
       "    <tr>\n",
       "      <th>12</th>\n",
       "      <td>30</td>\n",
       "      <td>Male</td>\n",
       "      <td>81</td>\n",
       "      <td>Dreamkiss</td>\n",
       "      <td>4.06</td>\n",
       "      <td>Iskossa88</td>\n",
       "    </tr>\n",
       "    <tr>\n",
       "      <th>13</th>\n",
       "      <td>23</td>\n",
       "      <td>Male</td>\n",
       "      <td>77</td>\n",
       "      <td>Piety, Guardian of Riddles</td>\n",
       "      <td>3.68</td>\n",
       "      <td>Seorithstilis90</td>\n",
       "    </tr>\n",
       "    <tr>\n",
       "      <th>14</th>\n",
       "      <td>40</td>\n",
       "      <td>Male</td>\n",
       "      <td>44</td>\n",
       "      <td>Bonecarvin Battle Axe</td>\n",
       "      <td>2.46</td>\n",
       "      <td>Sundast29</td>\n",
       "    </tr>\n",
       "    <tr>\n",
       "      <th>15</th>\n",
       "      <td>21</td>\n",
       "      <td>Male</td>\n",
       "      <td>96</td>\n",
       "      <td>Blood-Forged Skeletal Spine</td>\n",
       "      <td>4.77</td>\n",
       "      <td>Haellysu29</td>\n",
       "    </tr>\n",
       "    <tr>\n",
       "      <th>16</th>\n",
       "      <td>22</td>\n",
       "      <td>Female</td>\n",
       "      <td>123</td>\n",
       "      <td>Twilight's Carver</td>\n",
       "      <td>1.14</td>\n",
       "      <td>Sundista85</td>\n",
       "    </tr>\n",
       "    <tr>\n",
       "      <th>17</th>\n",
       "      <td>22</td>\n",
       "      <td>Female</td>\n",
       "      <td>59</td>\n",
       "      <td>Lightning, Etcher of the King</td>\n",
       "      <td>1.65</td>\n",
       "      <td>Aenarap34</td>\n",
       "    </tr>\n",
       "    <tr>\n",
       "      <th>18</th>\n",
       "      <td>28</td>\n",
       "      <td>Male</td>\n",
       "      <td>91</td>\n",
       "      <td>Celeste</td>\n",
       "      <td>3.71</td>\n",
       "      <td>Iskista88</td>\n",
       "    </tr>\n",
       "    <tr>\n",
       "      <th>19</th>\n",
       "      <td>31</td>\n",
       "      <td>Male</td>\n",
       "      <td>177</td>\n",
       "      <td>Winterthorn, Defender of Shifting Worlds</td>\n",
       "      <td>4.89</td>\n",
       "      <td>Assossa43</td>\n",
       "    </tr>\n",
       "  </tbody>\n",
       "</table>\n",
       "</div>"
      ],
      "text/plain": [
       "    Age  Gender  Item ID                                  Item Name  Price  \\\n",
       "0    38    Male      165                Bone Crushing Silver Skewer   3.37   \n",
       "1    21    Male      119  Stormbringer, Dark Blade of Ending Misery   2.32   \n",
       "2    34    Male      174                            Primitive Blade   2.46   \n",
       "3    21    Male       92                               Final Critic   1.36   \n",
       "4    23    Male       63                             Stormfury Mace   1.27   \n",
       "5    20    Male       10                                Sleepwalker   1.73   \n",
       "6    20    Male      153                            Mercenary Sabre   4.57   \n",
       "7    29  Female      169     Interrogator, Blood Blade of the Queen   3.32   \n",
       "8    25    Male      118           Ghost Reaver, Longsword of Magic   2.77   \n",
       "9    31    Male       99       Expiration, Warscythe Of Lost Worlds   4.53   \n",
       "10   24    Male       57            Despair, Favor of Due Diligence   3.81   \n",
       "11   20    Male       47                Alpha, Reach of Ending Hope   1.55   \n",
       "12   30    Male       81                                  Dreamkiss   4.06   \n",
       "13   23    Male       77                 Piety, Guardian of Riddles   3.68   \n",
       "14   40    Male       44                      Bonecarvin Battle Axe   2.46   \n",
       "15   21    Male       96                Blood-Forged Skeletal Spine   4.77   \n",
       "16   22  Female      123                          Twilight's Carver   1.14   \n",
       "17   22  Female       59              Lightning, Etcher of the King   1.65   \n",
       "18   28    Male       91                                    Celeste   3.71   \n",
       "19   31    Male      177   Winterthorn, Defender of Shifting Worlds   4.89   \n",
       "\n",
       "                 SN  \n",
       "0         Aelalis34  \n",
       "1            Eolo46  \n",
       "2       Assastnya25  \n",
       "3      Pheusrical25  \n",
       "4            Aela59  \n",
       "5        Tanimnya91  \n",
       "6       Undjaskla97  \n",
       "7      Iathenudil29  \n",
       "8      Sondenasta63  \n",
       "9        Hilaerin92  \n",
       "10       Chamosia29  \n",
       "11          Sally64  \n",
       "12        Iskossa88  \n",
       "13  Seorithstilis90  \n",
       "14        Sundast29  \n",
       "15       Haellysu29  \n",
       "16       Sundista85  \n",
       "17        Aenarap34  \n",
       "18        Iskista88  \n",
       "19        Assossa43  "
      ]
     },
     "execution_count": 74,
     "metadata": {},
     "output_type": "execute_result"
    }
   ],
   "source": [
    "#import dependencies\n",
    "import pandas as pd\n",
    "import numpy as np\n",
    "\n",
    "#import file\n",
    "file = \"Resources/purchase_data.json\"\n",
    "\n",
    "#read file\n",
    "df = pd.read_json(file)\n",
    "df.head(20)\n",
    "\n"
   ]
  },
  {
   "cell_type": "code",
   "execution_count": 49,
   "metadata": {},
   "outputs": [
    {
     "name": "stdout",
     "output_type": "stream",
     "text": [
      "Player Count: 780\n"
     ]
    }
   ],
   "source": [
    "#Player Count\n",
    "player_count = len(df.index)\n",
    "print(\"Player Count: \" + str(player_count))"
   ]
  },
  {
   "cell_type": "code",
   "execution_count": 50,
   "metadata": {},
   "outputs": [
    {
     "name": "stdout",
     "output_type": "stream",
     "text": [
      "Number of unique items: 179\n"
     ]
    }
   ],
   "source": [
    "#Purchasing Analysis(Total)\n",
    "\n",
    "#Number of unique items\n",
    "unique_items = len(df[\"Item Name\"].unique())\n",
    "print(\"Number of unique items: \" + str(unique_items))"
   ]
  },
  {
   "cell_type": "code",
   "execution_count": 72,
   "metadata": {},
   "outputs": [
    {
     "name": "stdout",
     "output_type": "stream",
     "text": [
      "Average purchase price: $2.931192307692303\n"
     ]
    }
   ],
   "source": [
    "#Average purchase price\n",
    "total_purchase_amount_sum = df[\"Price\"].sum()\n",
    "average_price = total_purchase_amount_sum/len(df.index)\n",
    "print(\"Average purchase price: $\" + str(average_price))\n"
   ]
  },
  {
   "cell_type": "code",
   "execution_count": 75,
   "metadata": {},
   "outputs": [
    {
     "name": "stdout",
     "output_type": "stream",
     "text": [
      "Total number of purchases: 780\n"
     ]
    }
   ],
   "source": [
    "#Total number of purchases\n",
    "total_num_purchases = len(df.index)\n",
    "\n",
    "print(\"Total number of purchases: \" + str(total_num_purchases))\n"
   ]
  },
  {
   "cell_type": "code",
   "execution_count": 87,
   "metadata": {},
   "outputs": [
    {
     "ename": "AttributeError",
     "evalue": "'float' object has no attribute 'round'",
     "output_type": "error",
     "traceback": [
      "\u001b[0;31m---------------------------------------------------------------------------\u001b[0m",
      "\u001b[0;31mAttributeError\u001b[0m                            Traceback (most recent call last)",
      "\u001b[0;32m<ipython-input-87-f39a5686df1c>\u001b[0m in \u001b[0;36m<module>\u001b[0;34m()\u001b[0m\n\u001b[1;32m      1\u001b[0m \u001b[0;31m#Total Revenue\u001b[0m\u001b[0;34m\u001b[0m\u001b[0;34m\u001b[0m\u001b[0m\n\u001b[0;32m----> 2\u001b[0;31m \u001b[0mtotal_rev\u001b[0m \u001b[0;34m=\u001b[0m \u001b[0mdf\u001b[0m\u001b[0;34m[\u001b[0m\u001b[0;34m\"Price\"\u001b[0m\u001b[0;34m]\u001b[0m\u001b[0;34m.\u001b[0m\u001b[0msum\u001b[0m\u001b[0;34m(\u001b[0m\u001b[0;34m)\u001b[0m\u001b[0;34m.\u001b[0m\u001b[0mround\u001b[0m\u001b[0;34m(\u001b[0m\u001b[0;36m2\u001b[0m\u001b[0;34m)\u001b[0m\u001b[0;34m\u001b[0m\u001b[0m\n\u001b[0m\u001b[1;32m      3\u001b[0m \u001b[0mprint\u001b[0m\u001b[0;34m(\u001b[0m\u001b[0;34m\"Total Revenue: $\"\u001b[0m \u001b[0;34m+\u001b[0m \u001b[0mstr\u001b[0m\u001b[0;34m(\u001b[0m\u001b[0mtotal_rev\u001b[0m\u001b[0;34m)\u001b[0m\u001b[0;34m)\u001b[0m\u001b[0;34m\u001b[0m\u001b[0m\n",
      "\u001b[0;31mAttributeError\u001b[0m: 'float' object has no attribute 'round'"
     ]
    }
   ],
   "source": [
    "#Total Revenue\n",
    "total_rev = df[\"Price\"].sum()\n",
    "print(\"Total Revenue: $\" + str(total_rev))"
   ]
  },
  {
   "cell_type": "code",
   "execution_count": 81,
   "metadata": {},
   "outputs": [
    {
     "name": "stdout",
     "output_type": "stream",
     "text": [
      "Gender Breakdown:\n",
      "----------------------------\n",
      "Male                     633\n",
      "Female                   136\n",
      "Other / Non-Disclosed     11\n",
      "Name: Gender, dtype: int64\n"
     ]
    }
   ],
   "source": [
    "gender = df[\"Gender\"].value_counts()\n",
    "print(\"Gender Breakdown:\")\n",
    "print(\"----------------------------\")\n",
    "print(gender)"
   ]
  },
  {
   "cell_type": "code",
   "execution_count": 86,
   "metadata": {},
   "outputs": [
    {
     "name": "stdout",
     "output_type": "stream",
     "text": [
      "Gender Percentage:\n",
      "----------------------------\n",
      "Female: 17.4358974359\n",
      "Male: 81.1538461538\n",
      "Other/Non-Disclosed: 1.41025641026\n"
     ]
    }
   ],
   "source": [
    "female_gender_percent = gender[\"Female\"]/len(df.index) * 100\n",
    "male_gender_percent = gender[\"Male\"]/len(df.index) * 100\n",
    "non_disclosed_gender = gender[\"Other / Non-Disclosed\"]/len(df.index) * 100\n",
    "print(\"Gender Percentage:\")\n",
    "print(\"----------------------------\")\n",
    "print(\"Female: \" + str(female_gender_percent))\n",
    "print(\"Male: \" + str(male_gender_percent))\n",
    "print(\"Other/Non-Disclosed: \" + str(non_disclosed_gender))"
   ]
  },
  {
   "cell_type": "code",
   "execution_count": null,
   "metadata": {
    "collapsed": true
   },
   "outputs": [],
   "source": []
  }
 ],
 "metadata": {
  "kernelspec": {
   "display_name": "Python [default]",
   "language": "python",
   "name": "python3"
  },
  "language_info": {
   "codemirror_mode": {
    "name": "ipython",
    "version": 3
   },
   "file_extension": ".py",
   "mimetype": "text/x-python",
   "name": "python",
   "nbconvert_exporter": "python",
   "pygments_lexer": "ipython3",
   "version": "3.6.1"
  }
 },
 "nbformat": 4,
 "nbformat_minor": 2
}
